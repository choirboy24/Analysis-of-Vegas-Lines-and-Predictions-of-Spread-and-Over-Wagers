{
 "cells": [
  {
   "cell_type": "code",
   "execution_count": 1,
   "id": "a821a1f2",
   "metadata": {},
   "outputs": [],
   "source": [
    "# *** Import required libraries\n",
    "\n",
    "import os\n",
    "import pandas as pd\n",
    "import re\n",
    "import math\n",
    "import numpy as np\n",
    "import sklearn\n",
    "from functions import get_roles, get_favorite, favorite_covered, make_match_key, test_match_key\n",
    "\n",
    "from sklearn.model_selection import train_test_split\n",
    "from sklearn.preprocessing import StandardScaler\n",
    "from sklearn.linear_model import LinearRegression\n",
    "from sklearn.metrics import mean_absolute_error, r2_score\n",
    "from sklearn.pipeline import Pipeline\n",
    "from sklearn.compose import ColumnTransformer\n",
    "from sklearn.impute import SimpleImputer\n",
    "from sklearn.preprocessing import OneHotEncoder\n",
    "import wandb"
   ]
  },
  {
   "cell_type": "code",
   "execution_count": 2,
   "id": "49a4cdf2",
   "metadata": {},
   "outputs": [],
   "source": [
    "# *** Set data paths for each input file\n",
    "# project_path = os.path.dirname(os.path.abspath(__file__)) <-- won't work in Jupyter, but will in script\n",
    "# Comment out project_path = os.getcwd() when copying code back to main.py\n",
    "project_path = os.getcwd()\n",
    "data_path_strength_sched = os.path.join(\n",
    "    project_path,\n",
    "    'data/strength_of_schedule.txt'\n",
    ")\n",
    "data_path_2023_2024_lines = os.path.join(\n",
    "    project_path,\n",
    "    'data/2023_2024_lines.txt'\n",
    ")\n",
    "data_path_merged_cfb_historical_odds = os.path.join(\n",
    "    project_path,\n",
    "    'data/merged_cfb_historical_odds.csv'\n",
    ")\n",
    "data_path_cfb_box_scores = os.path.join(\n",
    "    project_path,\n",
    "    'data/cfb_box_scores_2007_2024.csv'\n",
    ")\n",
    "data_path_stad_capacity = os.path.join(\n",
    "    project_path,\n",
    "    'data/stadium_capacity.csv'\n",
    ")"
   ]
  },
  {
   "cell_type": "code",
   "execution_count": 3,
   "id": "d81675fd",
   "metadata": {},
   "outputs": [],
   "source": [
    "# *** Read in strength_of_schedule.txt to DataFrame\n",
    "strength_schedule = pd.read_csv(\n",
    "    data_path_strength_sched, sep='\\t', encoding='ansi')\n",
    "strength = []\n",
    "\n",
    "# *** Clean school names to make them consistent across all datasets\n",
    "for i in strength_schedule['Team']:\n",
    "    i = i.replace('\\xa0', '')\n",
    "    i = re.sub('St$', 'State', i)\n",
    "    i = re.sub('Car$', 'Carolina', i)\n",
    "    i = re.sub('So$', 'Southern', i)\n",
    "    i = re.sub('Mississippi$', 'Ole Miss', i)\n",
    "    i = re.sub('Louisiana$', 'Louisiana Lafayette', i)\n",
    "    i = re.sub('UL Monroe', 'Louisiana Monroe', i)\n",
    "    i = re.sub('UConn', 'Connecticut', i)\n",
    "    i = re.sub('N Illinois', 'Northern Illinois', i)\n",
    "    i = re.sub('N Texas', 'North Texas', i)\n",
    "    i = re.sub('Hawai\\'i', 'Hawaii', i)\n",
    "    i = re.sub('S Florida', 'South Florida', i)\n",
    "    i = re.sub('W Michigan', 'Western Michigan', i)\n",
    "    i = re.sub('Middle Tenn', 'Middle Tennessee', i)\n",
    "    i = re.sub('E Carolina', 'ECU', i)\n",
    "    i = re.sub('C Michigan', 'Central Michigan', i)\n",
    "    i = re.sub('E Michigan', 'Eastern Michigan', i)\n",
    "    i = re.sub('Florida Intl', 'FIU', i)\n",
    "    i = re.sub('Florida Atlantic', 'FAU', i)\n",
    "    i = re.sub('W Kentucky', 'Western Kentucky', i)\n",
    "    i = re.sub('S Alabama', 'South Alabama', i)\n",
    "    i = re.sub('UMass', 'Massachusetts', i)\n",
    "    i = re.sub('App State', 'Appalachian State', i)\n",
    "    i = re.sub('J Madison', 'James Madison', i)\n",
    "    strength.append(i)\n",
    "strength_schedule['Team'] = pd.Series(strength)\n",
    "strength_schedule.drop(['Hi', 'Lo', 'Last'], axis=1, inplace=True)\n",
    "strength_schedule.rename(columns={'Date': 'full_date', 'Team': 'team', 'Rating': 'rating', 'Season': 'season'}, inplace=True)"
   ]
  },
  {
   "cell_type": "code",
   "execution_count": 4,
   "id": "d874d255",
   "metadata": {},
   "outputs": [],
   "source": [
    "# *** Extract wins and losses for each category of strength of schedule (SOS) and put them\n",
    "# in their own columns\n",
    "v_1_10_wins = []\n",
    "v_1_10_losses = []\n",
    "v_11_25_wins = []\n",
    "v_11_25_losses = []\n",
    "v_26_40_wins = []\n",
    "v_26_40_losses = []\n",
    "\n",
    "for _, row in strength_schedule.iterrows():\n",
    "    scores_1_10 = re.findall(r'(\\d+)', row['v 1-10'])\n",
    "    if len(scores_1_10) != 2:\n",
    "        v_1_10_wins.append(None)\n",
    "        v_1_10_losses.append(None)\n",
    "        continue\n",
    "    v_1_10_win = int(scores_1_10[0])\n",
    "    v_1_10_loss = int(scores_1_10[1])\n",
    "    v_1_10_wins.append(v_1_10_win)\n",
    "    v_1_10_losses.append(v_1_10_loss)\n",
    "\n",
    "    scores_11_25 = re.findall(r'(\\d+)', row['v 11-25'])\n",
    "    if len(scores_11_25) != 2:\n",
    "        v_11_25_wins.append(None)\n",
    "        v_11_25_losses.append(None)\n",
    "        continue\n",
    "    v_11_25_win = int(scores_11_25[0])\n",
    "    v_11_25_loss = int(scores_11_25[1])\n",
    "    v_11_25_wins.append(v_11_25_win)\n",
    "    v_11_25_losses.append(v_11_25_loss)\n",
    "\n",
    "    scores_26_40 = re.findall(r'(\\d+)', row['v 26-40'])\n",
    "    if len(scores_26_40) != 2:\n",
    "        v_26_40_wins.append(None)\n",
    "        v_26_40_losses.append(None)\n",
    "        continue\n",
    "    v_26_40_win = int(scores_26_40[0])\n",
    "    v_26_40_loss = int(scores_26_40[1])\n",
    "    v_26_40_wins.append(v_26_40_win)\n",
    "    v_26_40_losses.append(v_26_40_loss)\n",
    "    \n",
    "# *** Create columns for each category of wins/losses based on SOS\n",
    "strength_schedule['v_1_10_wins'] = pd.Series(v_1_10_wins)\n",
    "strength_schedule['v_1_10_losses'] = pd.Series(v_1_10_losses)\n",
    "strength_schedule['v_11_25_wins'] = pd.Series(v_11_25_wins)\n",
    "strength_schedule['v_11_25_losses'] = pd.Series(v_11_25_losses)\n",
    "strength_schedule['v_26_40_wins'] = pd.Series(v_26_40_wins)\n",
    "strength_schedule['v_26_40_losses'] = pd.Series(v_26_40_losses)\n",
    "\n",
    "strength_schedule.drop(['v 1-10', 'v 11-25', 'v 26-40'], inplace=True, axis=1)"
   ]
  },
  {
   "cell_type": "code",
   "execution_count": 120,
   "id": "4a67a883",
   "metadata": {},
   "outputs": [],
   "source": [
    "# *** Read in lines from 2023 and 2024 seasons' odds into DataFrame\n",
    "stats_23_24 = pd.read_csv(data_path_2023_2024_lines, sep='\\t')\n",
    "\n",
    "teams_list = []\n",
    "\n",
    "# *** Clean school names to make them consistent across all datasets\n",
    "for team in stats_23_24['Team']:\n",
    "    team = team.replace('NIU', 'Northern Illinois')\n",
    "    team = team.replace('WKU', 'Western Kentucky')\n",
    "    team = team.replace('Uconn', 'Connecticut')\n",
    "    team = team.replace('ECU', 'East Carolina')\n",
    "    teams_list.append(team)\n",
    "stats_23_24['Team'] = pd.Series(teams_list)\n",
    "stats_23_24.drop(columns=['Unnamed: 10'], axis=1, inplace=True)\n",
    "stats_23_24.rename(columns={'Spread': 'spread'}, inplace=True)"
   ]
  },
  {
   "cell_type": "code",
   "execution_count": 121,
   "id": "75fc71ac",
   "metadata": {},
   "outputs": [],
   "source": [
    "# *** Strip out 'vs ' and ' @' from in front of the Opponent teams\n",
    "# Take each modified team and populate into new columns for home and away teams\n",
    "home_teams = []\n",
    "away_teams = []\n",
    "\n",
    "for index, row in stats_23_24.iterrows():\n",
    "    opponent = row['Opponent']\n",
    "    team = row['Team']\n",
    "    \n",
    "    if isinstance(opponent, str) and 'vs ' in opponent:\n",
    "        stats_23_24.at[index, 'Opponent'] = opponent.replace('vs ', '')\n",
    "        home_teams.append(team)\n",
    "        away_teams.append(opponent.replace('vs ', ''))\n",
    "    elif isinstance(opponent, str) and '@ ' in opponent:\n",
    "        stats_23_24.at[index, 'Opponent'] = opponent.replace('@ ', '')\n",
    "        home_teams.append(opponent.replace('@ ', ''))\n",
    "        away_teams.append(team)\n",
    "    else:\n",
    "        home_teams.append(None)\n",
    "        away_teams.append(None)\n",
    "\n",
    "stats_23_24['home'] = pd.Series(home_teams)\n",
    "stats_23_24['away'] = pd.Series(away_teams)\n"
   ]
  },
  {
   "cell_type": "code",
   "execution_count": 122,
   "id": "d82d21df",
   "metadata": {},
   "outputs": [],
   "source": [
    "# *** Populate list with each unique team in 'Team' column\n",
    "fbs_teams_list = stats_23_24['Team'].unique().tolist()"
   ]
  },
  {
   "cell_type": "code",
   "execution_count": 123,
   "id": "c10aeda1",
   "metadata": {},
   "outputs": [],
   "source": [
    "# *** Populate teams in the 'away_team' column that are not FBS with the 'FCS' designation\n",
    "for index, row in stats_23_24.iterrows():\n",
    "    if row['away'] not in fbs_teams_list:\n",
    "        stats_23_24.at[index, 'away'] = 'FCS'\n",
    "    if row['home'] not in fbs_teams_list:\n",
    "        stats_23_24.at[index, 'home'] = 'FCS'\n",
    "fcs_teams_stats_away = stats_23_24[stats_23_24['away'] == 'FCS'].index\n",
    "fcs_teams_stats_home = stats_23_24[stats_23_24['home'] == 'FCS'].index"
   ]
  },
  {
   "cell_type": "code",
   "execution_count": null,
   "id": "6e6cb59b",
   "metadata": {},
   "outputs": [
    {
     "name": "stdout",
     "output_type": "stream",
     "text": [
      "        Date       Team        Opponent Game Result  Score ATS  spread OU  \\\n",
      "0   7-Sep-24  Air Force  San Jose State  REG      L   17-7   L    -3.0  U   \n",
      "1  14-Sep-24  Air Force          Baylor  REG      L   31-3   L    17.0  U   \n",
      "2  28-Sep-24  Air Force         Wyoming  REG      L  31-19   L    -4.0  O   \n",
      "3   5-Oct-24  Air Force            Navy  REG      L   34-7   L    10.0  O   \n",
      "4  12-Oct-24  Air Force      New Mexico  REG      L  52-37   L     6.5  O   \n",
      "\n",
      "   Total        home            away  \n",
      "0   44.5   Air Force  San Jose State  \n",
      "1   40.5      Baylor       Air Force  \n",
      "2   33.5     Wyoming       Air Force  \n",
      "3   37.0   Air Force            Navy  \n",
      "4   55.5  New Mexico       Air Force  \n"
     ]
    }
   ],
   "source": [
    "# *** Drop rows from stats_23_24 DataFrame that have 'FCS' for 'away'\n",
    "# using the indices of each row that has 'FCS' for 'Opponent'\n",
    "stats_23_24.drop(fcs_teams_stats_away, inplace=True, errors='ignore')\n",
    "stats_23_24.drop(fcs_teams_stats_home, inplace=True, errors='ignore')\n",
    "stats_23_24 = stats_23_24.reset_index(drop=True)"
   ]
  },
  {
   "cell_type": "code",
   "execution_count": 125,
   "id": "053f3087",
   "metadata": {},
   "outputs": [],
   "source": [
    "# *** Convert 'full_date' column to date\n",
    "stats_23_24.rename(columns={'Date': 'full_date'}, inplace=True)\n",
    "stats_23_24['full_date'] = pd.to_datetime(stats_23_24['full_date'], format='%d-%b-%y')"
   ]
  },
  {
   "cell_type": "code",
   "execution_count": 126,
   "id": "1c0d67ae",
   "metadata": {},
   "outputs": [],
   "source": [
    "# *** Give each matchup a 'game_id' consisting of the teams involved and the date\n",
    "# so as to be able to delete the duplicate matchup\n",
    "stats_23_24['match_key'] = stats_23_24.apply(\n",
    "    make_match_key, axis=1\n",
    ")\n",
    "stats_23_24['game_id'] = stats_23_24['full_date'].astype(str) + '_' + stats_23_24['match_key']\n"
   ]
  },
  {
   "cell_type": "code",
   "execution_count": 127,
   "id": "56ab2593",
   "metadata": {},
   "outputs": [],
   "source": [
    "# *** Drop duplicate matchups\n",
    "stats_23_24_new = stats_23_24.drop_duplicates(subset='game_id').reset_index(drop=True)"
   ]
  },
  {
   "cell_type": "code",
   "execution_count": 128,
   "id": "f5f2893f",
   "metadata": {},
   "outputs": [],
   "source": [
    "# *** Rename over/under columns\n",
    "stats_23_24_new.rename(columns={'OU': 'ou', 'Total': 'ou_total'}, inplace=True)"
   ]
  },
  {
   "cell_type": "code",
   "execution_count": 130,
   "id": "959f1efc",
   "metadata": {},
   "outputs": [],
   "source": [
    "# *** Split out 'Score' column into 'home_score' and 'away_score' columns\n",
    "home_scores = []\n",
    "away_scores = []\n",
    "\n",
    "for _, row in stats_23_24_new.iterrows():\n",
    "    scores = re.findall(r'(\\d+)', row['Score'])\n",
    "    if len(scores) != 2:\n",
    "        home_scores.append(None)\n",
    "        away_scores.append(None)\n",
    "        continue\n",
    "    home_score = int(scores[0])\n",
    "    away_score = int(scores[1])\n",
    "    if row['Team'] == row['home'] and row['Result'] == 'W':\n",
    "        home_scores.append(home_score)\n",
    "        away_scores.append(away_score)\n",
    "    elif row['Team'] == row['away'] and row['Result'] == 'L':\n",
    "        home_scores.append(home_score)\n",
    "        away_scores.append(away_score)\n",
    "    else:\n",
    "        home_scores.append(away_score)\n",
    "        away_scores.append(home_score)\n",
    "    \n",
    "\n",
    "stats_23_24_new['home_score'] = pd.Series(home_scores)\n",
    "stats_23_24_new['away_score'] = pd.Series(away_scores)"
   ]
  },
  {
   "cell_type": "code",
   "execution_count": 132,
   "id": "da532723",
   "metadata": {},
   "outputs": [],
   "source": [
    "# *** Drop unneeded columns\n",
    "stats_23_24_new.drop(['Team', 'Opponent', 'match_key'], inplace=True, axis=1)"
   ]
  },
  {
   "cell_type": "code",
   "execution_count": 133,
   "id": "ee8661ed",
   "metadata": {},
   "outputs": [
    {
     "data": {
      "text/html": [
       "<div>\n",
       "<style scoped>\n",
       "    .dataframe tbody tr th:only-of-type {\n",
       "        vertical-align: middle;\n",
       "    }\n",
       "\n",
       "    .dataframe tbody tr th {\n",
       "        vertical-align: top;\n",
       "    }\n",
       "\n",
       "    .dataframe thead th {\n",
       "        text-align: right;\n",
       "    }\n",
       "</style>\n",
       "<table border=\"1\" class=\"dataframe\">\n",
       "  <thead>\n",
       "    <tr style=\"text-align: right;\">\n",
       "      <th></th>\n",
       "      <th>full_date</th>\n",
       "      <th>Game</th>\n",
       "      <th>Result</th>\n",
       "      <th>Score</th>\n",
       "      <th>ATS</th>\n",
       "      <th>spread</th>\n",
       "      <th>ou</th>\n",
       "      <th>ou_total</th>\n",
       "      <th>home</th>\n",
       "      <th>away</th>\n",
       "      <th>game_id</th>\n",
       "      <th>home_score</th>\n",
       "      <th>away_score</th>\n",
       "    </tr>\n",
       "  </thead>\n",
       "  <tbody>\n",
       "    <tr>\n",
       "      <th>0</th>\n",
       "      <td>2024-09-07</td>\n",
       "      <td>REG</td>\n",
       "      <td>L</td>\n",
       "      <td>17-7</td>\n",
       "      <td>L</td>\n",
       "      <td>-3.0</td>\n",
       "      <td>U</td>\n",
       "      <td>44.5</td>\n",
       "      <td>Air Force</td>\n",
       "      <td>San Jose State</td>\n",
       "      <td>2024-09-07_Air Force_San Jose State</td>\n",
       "      <td>7</td>\n",
       "      <td>17</td>\n",
       "    </tr>\n",
       "    <tr>\n",
       "      <th>1</th>\n",
       "      <td>2024-09-14</td>\n",
       "      <td>REG</td>\n",
       "      <td>L</td>\n",
       "      <td>31-3</td>\n",
       "      <td>L</td>\n",
       "      <td>17.0</td>\n",
       "      <td>U</td>\n",
       "      <td>40.5</td>\n",
       "      <td>Baylor</td>\n",
       "      <td>Air Force</td>\n",
       "      <td>2024-09-14_Air Force_Baylor</td>\n",
       "      <td>31</td>\n",
       "      <td>3</td>\n",
       "    </tr>\n",
       "    <tr>\n",
       "      <th>2</th>\n",
       "      <td>2024-09-28</td>\n",
       "      <td>REG</td>\n",
       "      <td>L</td>\n",
       "      <td>31-19</td>\n",
       "      <td>L</td>\n",
       "      <td>-4.0</td>\n",
       "      <td>O</td>\n",
       "      <td>33.5</td>\n",
       "      <td>Wyoming</td>\n",
       "      <td>Air Force</td>\n",
       "      <td>2024-09-28_Air Force_Wyoming</td>\n",
       "      <td>31</td>\n",
       "      <td>19</td>\n",
       "    </tr>\n",
       "    <tr>\n",
       "      <th>3</th>\n",
       "      <td>2024-10-05</td>\n",
       "      <td>REG</td>\n",
       "      <td>L</td>\n",
       "      <td>34-7</td>\n",
       "      <td>L</td>\n",
       "      <td>10.0</td>\n",
       "      <td>O</td>\n",
       "      <td>37.0</td>\n",
       "      <td>Air Force</td>\n",
       "      <td>Navy</td>\n",
       "      <td>2024-10-05_Air Force_Navy</td>\n",
       "      <td>7</td>\n",
       "      <td>34</td>\n",
       "    </tr>\n",
       "    <tr>\n",
       "      <th>4</th>\n",
       "      <td>2024-10-12</td>\n",
       "      <td>REG</td>\n",
       "      <td>L</td>\n",
       "      <td>52-37</td>\n",
       "      <td>L</td>\n",
       "      <td>6.5</td>\n",
       "      <td>O</td>\n",
       "      <td>55.5</td>\n",
       "      <td>New Mexico</td>\n",
       "      <td>Air Force</td>\n",
       "      <td>2024-10-12_Air Force_New Mexico</td>\n",
       "      <td>52</td>\n",
       "      <td>37</td>\n",
       "    </tr>\n",
       "  </tbody>\n",
       "</table>\n",
       "</div>"
      ],
      "text/plain": [
       "   full_date Game Result  Score ATS  spread ou  ou_total        home  \\\n",
       "0 2024-09-07  REG      L   17-7   L    -3.0  U      44.5   Air Force   \n",
       "1 2024-09-14  REG      L   31-3   L    17.0  U      40.5      Baylor   \n",
       "2 2024-09-28  REG      L  31-19   L    -4.0  O      33.5     Wyoming   \n",
       "3 2024-10-05  REG      L   34-7   L    10.0  O      37.0   Air Force   \n",
       "4 2024-10-12  REG      L  52-37   L     6.5  O      55.5  New Mexico   \n",
       "\n",
       "             away                              game_id  home_score  away_score  \n",
       "0  San Jose State  2024-09-07_Air Force_San Jose State           7          17  \n",
       "1       Air Force          2024-09-14_Air Force_Baylor          31           3  \n",
       "2       Air Force         2024-09-28_Air Force_Wyoming          31          19  \n",
       "3            Navy            2024-10-05_Air Force_Navy           7          34  \n",
       "4       Air Force      2024-10-12_Air Force_New Mexico          52          37  "
      ]
     },
     "execution_count": 133,
     "metadata": {},
     "output_type": "execute_result"
    }
   ],
   "source": [
    "stats_23_24_new.head()"
   ]
  },
  {
   "cell_type": "code",
   "execution_count": 135,
   "id": "4226babc",
   "metadata": {},
   "outputs": [],
   "source": [
    "# *** Determine who the favorite/underdog is based on spread value (+/-) and home/away\n",
    "stats_23_24_new[['fav_side', 'dog_side']] = stats_23_24_new.apply(get_roles, axis=1)"
   ]
  },
  {
   "cell_type": "code",
   "execution_count": 137,
   "id": "17e99abc",
   "metadata": {},
   "outputs": [],
   "source": [
    "# *** Calculate absolute value of 'spread' value and if the favorite covered the spread or not\n",
    "stats_23_24_new['spread'] = stats_23_24_new['spread'].abs()\n",
    "stats_23_24_new['favorite_covered'] = stats_23_24_new.apply(favorite_covered, axis=1)"
   ]
  },
  {
   "cell_type": "code",
   "execution_count": 138,
   "id": "bb7e3fa9",
   "metadata": {},
   "outputs": [],
   "source": [
    "for i in range(len(stats_23_24_new)):\n",
    "\n",
    "    c1 = stats_23_24_new.loc[i, 'away_score']\n",
    "    c2 = stats_23_24_new.loc[i, 'home_score']\n",
    "    fav_side_home = stats_23_24_new.loc[i, 'fav_side'] == 'home'\n",
    "    fav_side_away = stats_23_24_new.loc[i, 'fav_side'] == 'away'\n",
    "\n",
    "    if (c1 + c2) > stats_23_24_new.loc[i, 'ou_total']:\n",
    "        stats_23_24_new.loc[i, 'ou'] = 'O'\n",
    "    elif (c1 + c2) < stats_23_24_new.loc[i, 'ou_total']:\n",
    "        stats_23_24_new.loc[i, 'ou'] = 'U'\n",
    "    else:\n",
    "        stats_23_24_new.loc[i, 'ou'] = 'E'\n",
    "    \n",
    "    if (c1 > c2) and (fav_side_home):\n",
    "        stats_23_24_new.loc[i, 'spread_away_cover'] = 'y'\n",
    "        stats_23_24_new.loc[i, 'spread_home_cover'] = 'n'\n",
    "    elif (c1 > c2) and (fav_side_away):\n",
    "        if (c1 - c2) > stats_23_24_new.loc[i, 'spread']:\n",
    "            stats_23_24_new.loc[i, 'spread_away_cover'] = 'y'\n",
    "            stats_23_24_new.loc[i, 'spread_home_cover'] = 'n'\n",
    "        else:\n",
    "            stats_23_24_new.loc[i, 'spread_away_cover'] = 'n'\n",
    "            stats_23_24_new.loc[i, 'spread_home_cover'] = 'y'\n",
    "    elif (c2 > c1) and fav_side_home:\n",
    "        if (c2 - c1) > stats_23_24_new.loc[i, 'spread']:\n",
    "            stats_23_24_new.loc[i, 'spread_home_cover'] = 'y'\n",
    "            stats_23_24_new.loc[i, 'spread_away_cover'] = 'n'\n",
    "        else:\n",
    "            stats_23_24_new.loc[i, 'spread_home_cover'] = 'n'\n",
    "            stats_23_24_new.loc[i, 'spread_away_cover'] = 'y'\n",
    "    elif (c2 > c1) and fav_side_away:\n",
    "        if (c2 - c1) > stats_23_24_new.loc[i, 'spread']:\n",
    "            stats_23_24_new.loc[i, 'spread_home_cover'] = 'y'\n",
    "            stats_23_24_new.loc[i, 'spread_away_cover'] = 'n'\n",
    "        else:\n",
    "            stats_23_24_new.loc[i, 'spread_home_cover'] = 'n'\n",
    "            stats_23_24_new.loc[i, 'spread_away_cover'] = 'y'\n",
    "    else:\n",
    "        stats_23_24_new.loc[i, 'spread_home_cover'] = 'eq'\n",
    "        stats_23_24_new.loc[i, 'spread_away_cover'] = 'eq'"
   ]
  },
  {
   "cell_type": "code",
   "execution_count": 140,
   "id": "fc79da10",
   "metadata": {},
   "outputs": [],
   "source": [
    "stats_23_24_new.drop(columns=['Game', 'Result', 'Score', 'ATS'], axis=1, inplace=True)"
   ]
  },
  {
   "cell_type": "code",
   "execution_count": 141,
   "id": "d25f3bc2",
   "metadata": {},
   "outputs": [],
   "source": [
    "stats_23_24_new['ml_fav'] = pd.Series(dtype='Int64')\n",
    "stats_23_24_new['ml_dog'] = pd.Series(dtype='Int64')"
   ]
  },
  {
   "cell_type": "code",
   "execution_count": 142,
   "id": "a5edf2bd",
   "metadata": {},
   "outputs": [],
   "source": [
    "# *** Load historical odds DataFrame\n",
    "hist_odds = pd.read_csv(data_path_merged_cfb_historical_odds)\n",
    "hist_odds['Season'] = pd.to_numeric(\n",
    "    hist_odds['Season'], errors='coerce').fillna(0).astype(int)\n",
    "hist_odds = hist_odds.drop(\n",
    "    ['1st', '2nd', '3rd', '4th'], axis=1, errors='ignore')"
   ]
  },
  {
   "cell_type": "code",
   "execution_count": 143,
   "id": "4e9f7025",
   "metadata": {},
   "outputs": [],
   "source": [
    "# Clean team names, putting spaces in between words of school name\n",
    "# correcting Miami Florida and Miami Ohio to Miami FL and Miami OH to\n",
    "# make it consistent across the other datasets.  Also changing 'St' to 'State'\n",
    "teams_list = []\n",
    "for team in hist_odds['Team']:\n",
    "    team = str(team)\n",
    "    team = re.sub(r'(?<=[a-z])(?=[A-Z])', ' ', team)\n",
    "    team = team.replace(' U', '')\n",
    "    team = team.replace('Miami Florida', 'Miami FL')\n",
    "    team = team.replace('Miami Ohio', 'Miami OH')\n",
    "    team = team.replace(\"ULMonroe\", \"Louisiana Monroe\")\n",
    "    team = team.replace(\"ULLafayette\", \"Louisiana Lafayette\")\n",
    "    team = re.sub(r'St$', 'State', team)\n",
    "    team = re.sub(r'Kent$', 'Kent State', team)\n",
    "    team = team.replace('So Mississippi', 'Southern Miss')\n",
    "    teams_list.append(team)\n",
    "hist_odds['Team'] = pd.Series(teams_list)"
   ]
  },
  {
   "cell_type": "code",
   "execution_count": 144,
   "id": "a8d13f38",
   "metadata": {},
   "outputs": [],
   "source": [
    "# *** Delete contests where one or the other (or both) teams\n",
    "# have invalid data in them\n",
    "def mark_bad_pair(df):\n",
    "    drop_rows = []\n",
    "    bad_close_vals = ['', 'pk', 'PK', 'nl', 'NL']\n",
    "    for i in range(0, len(df) - 1, 2):  # step by 2 to process game pairs\n",
    "        c1 = str(df.loc[i, 'Close']).strip().lower()\n",
    "        c2 = str(df.loc[i + 1, 'Close']).strip().lower()\n",
    "\n",
    "        # If either row has an invalid Close value\n",
    "        if c1 in bad_close_vals or c2 in bad_close_vals or pd.isna(df.loc[i, 'Close']) or pd.isna(df.loc[i + 1, 'Close']):\n",
    "            drop_rows.extend([i, i + 1])\n",
    "\n",
    "    return df.drop(index=drop_rows).reset_index(drop=True)\n",
    "\n",
    "# Apply it\n",
    "hist_odds = mark_bad_pair(hist_odds)"
   ]
  },
  {
   "cell_type": "code",
   "execution_count": null,
   "id": "49e7b3da",
   "metadata": {},
   "outputs": [
    {
     "name": "stdout",
     "output_type": "stream",
     "text": [
      "   Season  Date  Rot VH               Team  Final Close      ML  month   day  \\\n",
      "0    2007   830  129  V           Miami OH     14  53.5     160      8    30   \n",
      "1    2007   830  130  H         Ball State     13     4    -185   <NA>  <NA>   \n",
      "2    2007   830  131  V            Buffalo      3  49.5    5000      8    30   \n",
      "3    2007   830  132  H            Rutgers     38  30.5  -12500   <NA>  <NA>   \n",
      "4    2007   830  133  V                LSU     45  19.5   -2600      8    30   \n",
      "5    2007   830  134  H  Mississippi State      0    44    1600   <NA>  <NA>   \n",
      "6    2007   830  135  V         Kent State     23  45.5     145      8    30   \n",
      "7    2007   830  136  H         Iowa State     14   3.5    -165   <NA>  <NA>   \n",
      "8    2007   830  137  V               UNLV     23     6    -235      8    30   \n",
      "9    2007   830  138  H         Utah State     16    47     195   <NA>  <NA>   \n",
      "\n",
      "   ... dog_side raw_date_str  full_date away_score  home_score        away  \\\n",
      "0  ...     away         0830  2007-8-30       14.0        13.0    Miami OH   \n",
      "1  ...      NaN          NaN        NaN        NaN         NaN         NaN   \n",
      "2  ...     away         0830  2007-8-30        3.0        38.0     Buffalo   \n",
      "3  ...      NaN          NaN        NaN        NaN         NaN         NaN   \n",
      "4  ...     home         0830  2007-8-30       45.0         0.0         LSU   \n",
      "5  ...      NaN          NaN        NaN        NaN         NaN         NaN   \n",
      "6  ...     away         0830  2007-8-30       23.0        14.0  Kent State   \n",
      "7  ...      NaN          NaN        NaN        NaN         NaN         NaN   \n",
      "8  ...     home         0830  2007-8-30       23.0        16.0        UNLV   \n",
      "9  ...      NaN          NaN        NaN        NaN         NaN         NaN   \n",
      "\n",
      "                home ou_total  spread   ou  \n",
      "0         Ball State     53.5     4.0    U  \n",
      "1                NaN      NaN     NaN  NaN  \n",
      "2            Rutgers     49.5    30.5    U  \n",
      "3                NaN      NaN     NaN  NaN  \n",
      "4  Mississippi State     44.0    19.5    O  \n",
      "5                NaN      NaN     NaN  NaN  \n",
      "6         Iowa State     45.5     3.5    U  \n",
      "7                NaN      NaN     NaN  NaN  \n",
      "8         Utah State     47.0     6.0    U  \n",
      "9                NaN      NaN     NaN  NaN  \n",
      "\n",
      "[10 rows x 21 columns]\n"
     ]
    }
   ],
   "source": [
    "# *** Combine both rows in a contest in the hist_odds DataFrame into one row\n",
    "\n",
    "hist_odds['month'] = pd.Series(dtype='Int64')\n",
    "hist_odds['day'] = pd.Series(dtype='Int64')\n",
    "\n",
    "hist_odds['fav_side'] = pd.Series(dtype='str')\n",
    "hist_odds['dog_side'] = pd.Series(dtype='str')\n",
    "\n",
    "for i in range(0, len(hist_odds) - 1, 2):\n",
    "    raw_date_str = str(hist_odds.loc[i, 'Date']).zfill(4)\n",
    "    hist_odds.loc[i, 'raw_date_str'] = raw_date_str\n",
    "    hist_odds.loc[i, 'month'] = int(raw_date_str[:-2])\n",
    "    hist_odds.loc[i, 'day'] = int(raw_date_str[-2:])\n",
    "    hist_odds.loc[i, 'full_date'] = (str(hist_odds.loc[i, 'Season']) + '-' + str(hist_odds.loc[i, 'month']) + '-' + str(hist_odds.loc[i, 'day']))\n",
    "\n",
    "    hist_odds.loc[i, 'away_score'] = hist_odds.loc[i, 'Final']\n",
    "    hist_odds.loc[i, 'home_score'] = hist_odds.loc[i + 1, 'Final']\n",
    "\n",
    "    hist_odds.loc[i, 'away'] = hist_odds.loc[i, 'Team']\n",
    "    hist_odds.loc[i, 'home'] = hist_odds.loc[i + 1, 'Team']\n",
    "\n",
    "    c1 = pd.to_numeric(hist_odds.loc[i, 'Close'], errors='coerce')\n",
    "    c2 = pd.to_numeric(hist_odds.loc[i + 1, 'Close'], errors='coerce')\n",
    "\n",
    "    c3 = hist_odds.loc[i, 'away_score']\n",
    "    c4 = hist_odds.loc[i, 'home_score']\n",
    "\n",
    "    # Only proceed if both c1 and c2 are not NaN\n",
    "    # If either c1 or c2 is NaN, skip this row\n",
    "    # *** Apply favorite for home or away to historical odds\n",
    "    # and combine over/under and spread on to one line depending on which number is higher\n",
    "    # (the spread number is ALWAYS going to be less than the over/under)\n",
    "    if not (np.isnan(c1) or np.isnan(c2)):\n",
    "        if c1 > c2:\n",
    "            hist_odds.loc[i, 'ou_total'] = c1\n",
    "            hist_odds.loc[i, 'spread'] = c2\n",
    "            # Added next 4 rows\n",
    "            if c2 == 0:\n",
    "                hist_odds.loc[i, 'fav_side'] = 'none'\n",
    "                hist_odds.loc[i, 'dog_side'] = 'none'\n",
    "            else:\n",
    "                hist_odds.loc[i, 'fav_side'] = 'home'\n",
    "                hist_odds.loc[i, 'dog_side'] = 'away'\n",
    "        else:\n",
    "            hist_odds.loc[i, 'ou_total'] = c2\n",
    "            hist_odds.loc[i, 'spread'] = c1\n",
    "            # Added next 4 rows\n",
    "            if c1 == 0:\n",
    "                hist_odds.loc[i, 'fav_side'] = 'none'\n",
    "                hist_odds.loc[i, 'dog_side'] = 'none'\n",
    "            else:\n",
    "                hist_odds.loc[i, 'fav_side'] = 'away'\n",
    "                hist_odds.loc[i, 'dog_side'] = 'home'\n",
    "\n",
    "        if (c3 + c4) > hist_odds.loc[i, 'ou_total']:\n",
    "            hist_odds.loc[i, 'ou'] = 'O'\n",
    "        elif (c3 + c4) < hist_odds.loc[i, 'ou_total']:\n",
    "            hist_odds.loc[i, 'ou'] = 'U'\n",
    "        else:\n",
    "            hist_odds.loc[i, 'ou'] = 'E'"
   ]
  },
  {
   "cell_type": "code",
   "execution_count": 146,
   "id": "5453a54c",
   "metadata": {},
   "outputs": [],
   "source": [
    "# *** Populate teams in the 'away_team' column that are not FBS with the 'FCS' designation\n",
    "for index, row in hist_odds.iterrows():\n",
    "    if row['away'] not in fbs_teams_list:\n",
    "        hist_odds.at[index, 'away'] = 'FCS'\n",
    "    if row['home'] not in fbs_teams_list:\n",
    "        hist_odds.at[index, 'home'] = 'FCS'\n",
    "fcs_teams_stats_away = hist_odds[hist_odds['away'] == 'FCS'].index\n",
    "fcs_teams_stats_away = hist_odds[hist_odds['home'] == 'FCS'].index"
   ]
  },
  {
   "cell_type": "code",
   "execution_count": null,
   "id": "2854999e",
   "metadata": {},
   "outputs": [
    {
     "name": "stdout",
     "output_type": "stream",
     "text": [
      "   Season  Date  Rot VH        Team  Final Close     ML  month  day  ...  \\\n",
      "0    2007   830  129  V    Miami OH     14  53.5    160      8   30  ...   \n",
      "1    2007   830  131  V     Buffalo      3  49.5   5000      8   30  ...   \n",
      "2    2007   830  133  V         LSU     45  19.5  -2600      8   30  ...   \n",
      "3    2007   830  135  V  Kent State     23  45.5    145      8   30  ...   \n",
      "4    2007   830  137  V        UNLV     23     6   -235      8   30  ...   \n",
      "\n",
      "  dog_side raw_date_str  full_date away_score  home_score        away  \\\n",
      "0     away         0830  2007-8-30       14.0        13.0    Miami OH   \n",
      "1     away         0830  2007-8-30        3.0        38.0     Buffalo   \n",
      "2     home         0830  2007-8-30       45.0         0.0         LSU   \n",
      "3     away         0830  2007-8-30       23.0        14.0  Kent State   \n",
      "4     home         0830  2007-8-30       23.0        16.0        UNLV   \n",
      "\n",
      "                home ou_total  spread  ou  \n",
      "0         Ball State     53.5     4.0   U  \n",
      "1            Rutgers     49.5    30.5   U  \n",
      "2  Mississippi State     44.0    19.5   O  \n",
      "3         Iowa State     45.5     3.5   U  \n",
      "4         Utah State     47.0     6.0   U  \n",
      "\n",
      "[5 rows x 21 columns]\n"
     ]
    }
   ],
   "source": [
    "# *** Drop rows from stats_23_24 DataFrame that have 'FCS' for 'away_team'\n",
    "# using the indices of each row that has 'FCS' for 'Opponent'\n",
    "hist_odds.drop(fcs_teams_stats_away, inplace=True, errors='ignore')\n",
    "hist_odds.drop(fcs_teams_stats_home, inplace=True, errors='ignore')\n",
    "hist_odds = hist_odds.reset_index(drop=True)"
   ]
  },
  {
   "cell_type": "code",
   "execution_count": 148,
   "id": "084c9115",
   "metadata": {},
   "outputs": [],
   "source": [
    "# *** Mark whether the home or away team covered the spread\n",
    "for i in range(len(hist_odds)):        \n",
    "    if (c3 > c4) and (hist_odds.loc[i, 'fav_side'] == 'home'):\n",
    "        hist_odds.loc[i, 'spread_away_cover'] = 'y'\n",
    "        hist_odds.loc[i, 'spread_home_cover'] = 'n'\n",
    "    elif (c3 > c4) and (hist_odds.loc[i, 'fav_side'] == 'away'):\n",
    "        if (c3 - c4) > hist_odds.loc[i, 'spread']:\n",
    "            hist_odds.loc[i, 'spread_away_cover'] = 'y'\n",
    "            hist_odds.loc[i, 'spread_home_cover'] = 'n'\n",
    "        elif (c3 - c4) < hist_odds.loc[i, 'spread']:\n",
    "            hist_odds.loc[i, 'spread_away_cover'] = 'n'\n",
    "            hist_odds.loc[i, 'spread_home_cover'] = 'y'\n",
    "        else:\n",
    "            hist_odds.loc[i, 'spread_away_cover'] = 'eq'\n",
    "            hist_odds.loc[i, 'spread_home_cover'] = 'eq'\n",
    "            \n",
    "    elif (c4 > c3) and (hist_odds.loc[i, 'fav_side'] == 'home'):\n",
    "        if (c4 - c3) > hist_odds.loc[i, 'spread']:\n",
    "            hist_odds.loc[i, 'spread_home_cover'] = 'y'\n",
    "            hist_odds.loc[i, 'spread_away_cover'] = 'n'\n",
    "        else:\n",
    "            hist_odds.loc[i, 'spread_home_cover'] = 'n'\n",
    "            hist_odds.loc[i, 'spread_away_cover'] = 'y'\n",
    "    else:\n",
    "        if (c4 - c3) > hist_odds.loc[i, 'spread']:\n",
    "            hist_odds.loc[i, 'spread_home_cover'] = 'y'\n",
    "            hist_odds.loc[i, 'spread_away_cover'] = 'n'\n",
    "        else:\n",
    "            hist_odds.loc[i, 'spread_home_cover'] = 'n'\n",
    "            hist_odds.loc[i, 'spread_away_cover'] = 'y'"
   ]
  },
  {
   "cell_type": "code",
   "execution_count": 149,
   "id": "693ff698",
   "metadata": {},
   "outputs": [],
   "source": [
    "hist_odds['ML'] = pd.to_numeric(hist_odds['ML'], errors='coerce')"
   ]
  },
  {
   "cell_type": "code",
   "execution_count": 150,
   "id": "183836c7",
   "metadata": {},
   "outputs": [],
   "source": [
    "# *** Determine the money line favorite and underdog\n",
    "hist_odds['ml_fav'] = pd.Series(dtype='Int64')\n",
    "hist_odds['ml_dog'] = pd.Series(dtype='Int64')\n",
    "\n",
    "for i in range(0, len(hist_odds) - 1, 2):\n",
    "    if (hist_odds.loc[i, 'ML'] != 'NL') and (hist_odds.loc[i+1, 'ML'] != 'NL'):\n",
    "        if hist_odds.loc[i, 'ML'] < 0:\n",
    "            hist_odds.loc[i, 'ml_fav'] = hist_odds.loc[i, 'ML']\n",
    "        else:\n",
    "            hist_odds.loc[i, 'ml_dog'] = hist_odds.loc[i, 'ML']\n",
    "\n",
    "        if hist_odds.loc[i+1, 'ML'] < 0:\n",
    "            hist_odds.loc[i, 'ml_fav'] = hist_odds.loc[i+1, 'ML']\n",
    "        else:\n",
    "            hist_odds.loc[i, 'ml_dog'] = hist_odds.loc[i+1, 'ML']\n",
    "        \n",
    "hist_odds = hist_odds.dropna(subset=['home', 'away'], axis=0).reset_index(drop=True)\n",
    "hist_odds = hist_odds.drop(['Rot', 'VH', 'Team', 'Final', 'ML', 'Close'], axis=1, errors='ignore').reset_index(drop=True)"
   ]
  },
  {
   "cell_type": "code",
   "execution_count": 152,
   "id": "bdf69c07",
   "metadata": {},
   "outputs": [],
   "source": [
    "# *** Create match key from teams in contest\n",
    "hist_odds['match_key'] = hist_odds.apply(make_match_key, axis=1)\n",
    "hist_odds['game_id'] = hist_odds['full_date'].astype(str) + '_' + hist_odds['match_key']"
   ]
  },
  {
   "cell_type": "code",
   "execution_count": 153,
   "id": "676ebf98",
   "metadata": {},
   "outputs": [],
   "source": [
    "hist_odds['full_date'] = pd.to_datetime(hist_odds['full_date'], errors=\"coerce\")"
   ]
  },
  {
   "cell_type": "code",
   "execution_count": 154,
   "id": "47cd0dca",
   "metadata": {},
   "outputs": [],
   "source": [
    "hist_odds.columns = [col.lower().strip() for col in hist_odds.columns]"
   ]
  },
  {
   "cell_type": "code",
   "execution_count": 155,
   "id": "08c8b3d4",
   "metadata": {},
   "outputs": [],
   "source": [
    "# *** Determine if the favorite covered the spread\n",
    "hist_odds['favorite_covered'] = hist_odds.apply(favorite_covered, axis=1)"
   ]
  },
  {
   "cell_type": "code",
   "execution_count": 156,
   "id": "a76dba1b",
   "metadata": {},
   "outputs": [],
   "source": [
    "# *** Drop unneedefd columns from historical odds dataset\n",
    "hist_odds.drop(['season', 'date', 'month', 'day', 'raw_date_str', 'match_key'], axis=1, inplace=True, errors='ignore')"
   ]
  },
  {
   "cell_type": "code",
   "execution_count": 157,
   "id": "3bda8474",
   "metadata": {},
   "outputs": [],
   "source": [
    "# *** Calculate mean of existing money line favorites and underdogs by spread\n",
    "# to impute in missing money line fields\n",
    "# Only include rows where both ml_fav and ml_dog exist\n",
    "valid_rows = hist_odds[hist_odds['ml_fav'].notna() & hist_odds['ml_dog'].notna()]\n",
    "\n",
    "spread_means = valid_rows.groupby('spread').agg({\n",
    "    'ml_fav': 'mean',\n",
    "    'ml_dog': 'mean'\n",
    "}).rename(columns={\n",
    "    'ml_fav': 'mean_fav_ml',\n",
    "    'ml_dog': 'mean_dog_ml'\n",
    "})\n",
    "spread_means['spread'] = spread_means.index"
   ]
  },
  {
   "cell_type": "code",
   "execution_count": 159,
   "id": "cfe604a5",
   "metadata": {},
   "outputs": [],
   "source": [
    "spread_means.dropna(inplace=True, axis=0)"
   ]
  },
  {
   "cell_type": "code",
   "execution_count": 160,
   "id": "ee0c23ba",
   "metadata": {},
   "outputs": [],
   "source": [
    "spread_means.loc[0.0, ['mean_fav_ml']] = -110\n",
    "spread_means.loc[0.0, ['mean_dog_ml']] = -110"
   ]
  },
  {
   "cell_type": "code",
   "execution_count": 42,
   "id": "55852744",
   "metadata": {},
   "outputs": [],
   "source": [
    "# *** Function to impute missing moneylines in historical odds dataset\n",
    "def fill_missing_mls(row):\n",
    "    spread_val = row['spread']\n",
    "    if pd.isna(spread_val) or spread_val not in spread_means.index:\n",
    "        return row  # No lookup if spread is missing or not in index\n",
    "\n",
    "    means = spread_means.loc[spread_val]\n",
    "\n",
    "    if pd.isna(row['ml_fav']):\n",
    "        row['ml_fav'] = means['mean_fav_ml']\n",
    "    if pd.isna(row['ml_dog']):\n",
    "        row['ml_dog'] = means['mean_dog_ml']\n",
    "\n",
    "    return row"
   ]
  },
  {
   "cell_type": "code",
   "execution_count": 43,
   "id": "67da00f5",
   "metadata": {},
   "outputs": [],
   "source": [
    "# *** Function to impute all moneyline values for 2023-24 odds dataset\n",
    "def fill_all_mls(row):\n",
    "    spread_val = row['spread']\n",
    "    if pd.isna(spread_val) or spread_val not in spread_means.index:\n",
    "        return row  # No lookup if spread is missing or not in index\n",
    "    means = spread_means.loc[spread_val]\n",
    "    \n",
    "    if pd.isna(row['ml_fav']):\n",
    "        row['ml_fav'] = means['mean_fav_ml']\n",
    "    if pd.isna(row['ml_dog']):\n",
    "        row['ml_dog'] = means['mean_dog_ml']\n",
    "    \n",
    "    return row"
   ]
  },
  {
   "cell_type": "code",
   "execution_count": 161,
   "id": "dd1dd5f8",
   "metadata": {},
   "outputs": [],
   "source": [
    "stats_23_24_new = stats_23_24_new.apply(fill_all_mls, axis=1)"
   ]
  },
  {
   "cell_type": "code",
   "execution_count": 163,
   "id": "9a84da23",
   "metadata": {},
   "outputs": [],
   "source": [
    "hist_odds = hist_odds.apply(fill_missing_mls, axis=1)"
   ]
  },
  {
   "cell_type": "code",
   "execution_count": 166,
   "id": "91501ded",
   "metadata": {},
   "outputs": [],
   "source": [
    "stats_23_24_new.dropna(subset=['ml_fav', 'ml_dog'], inplace=True)"
   ]
  },
  {
   "cell_type": "code",
   "execution_count": 167,
   "id": "14e576fc",
   "metadata": {},
   "outputs": [],
   "source": [
    "hist_odds.dropna(subset=['ml_fav', 'ml_dog'], inplace=True)"
   ]
  },
  {
   "cell_type": "code",
   "execution_count": 168,
   "id": "2703e1a0",
   "metadata": {},
   "outputs": [
    {
     "data": {
      "text/plain": [
       "full_date            False\n",
       "spread               False\n",
       "ou                   False\n",
       "ou_total             False\n",
       "home                 False\n",
       "away                 False\n",
       "game_id              False\n",
       "home_score           False\n",
       "away_score           False\n",
       "fav_side             False\n",
       "dog_side             False\n",
       "favorite_covered     False\n",
       "spread_away_cover    False\n",
       "spread_home_cover    False\n",
       "ml_fav               False\n",
       "ml_dog               False\n",
       "dtype: bool"
      ]
     },
     "execution_count": 168,
     "metadata": {},
     "output_type": "execute_result"
    }
   ],
   "source": [
    "stats_23_24_new.isna().any()"
   ]
  },
  {
   "cell_type": "code",
   "execution_count": 169,
   "id": "42e42dbd",
   "metadata": {},
   "outputs": [
    {
     "data": {
      "text/plain": [
       "fav_side             False\n",
       "dog_side             False\n",
       "full_date            False\n",
       "away_score           False\n",
       "home_score           False\n",
       "away                 False\n",
       "home                 False\n",
       "ou_total             False\n",
       "spread               False\n",
       "ou                   False\n",
       "spread_away_cover    False\n",
       "spread_home_cover    False\n",
       "ml_fav               False\n",
       "ml_dog               False\n",
       "game_id              False\n",
       "favorite_covered     False\n",
       "dtype: bool"
      ]
     },
     "execution_count": 169,
     "metadata": {},
     "output_type": "execute_result"
    }
   ],
   "source": [
    "hist_odds.isna().any()"
   ]
  },
  {
   "cell_type": "code",
   "execution_count": 306,
   "id": "7ce6d1f2",
   "metadata": {},
   "outputs": [],
   "source": [
    "ml_conv = spread_means.copy().reset_index(drop=True)"
   ]
  },
  {
   "cell_type": "code",
   "execution_count": 307,
   "id": "68320791",
   "metadata": {},
   "outputs": [],
   "source": [
    "ml_conv.rename(columns={'mean_fav_ml': 'ml_fav', 'mean_dog_ml': 'ml_dog'}, inplace=True)"
   ]
  },
  {
   "cell_type": "code",
   "execution_count": 308,
   "id": "88813369",
   "metadata": {},
   "outputs": [],
   "source": [
    "stats_23_24_new['spread'] = stats_23_24_new['spread'].abs()"
   ]
  },
  {
   "cell_type": "code",
   "execution_count": null,
   "id": "dbd1fb76",
   "metadata": {},
   "outputs": [
    {
     "name": "stdout",
     "output_type": "stream",
     "text": [
      "<class 'pandas.core.frame.DataFrame'>\n",
      "RangeIndex: 95 entries, 0 to 94\n",
      "Data columns (total 3 columns):\n",
      " #   Column  Non-Null Count  Dtype  \n",
      "---  ------  --------------  -----  \n",
      " 0   ml_fav  95 non-null     float64\n",
      " 1   ml_dog  95 non-null     float64\n",
      " 2   spread  95 non-null     float64\n",
      "dtypes: float64(3)\n",
      "memory usage: 2.4 KB\n"
     ]
    }
   ],
   "source": [
    "# *** Ensure all columns in the 'ml_conv' DataFrame are numeric and that 'fav_ml' and 'dog_ml'\n",
    "# columns are integers\n",
    "ml_conv['spread'] = pd.to_numeric(ml_conv['spread'])\n",
    "ml_conv['ml_fav'] = pd.to_numeric(ml_conv['ml_fav']).round()\n",
    "ml_conv['ml_dog'] = pd.to_numeric(ml_conv['ml_dog']).round()"
   ]
  },
  {
   "cell_type": "code",
   "execution_count": 213,
   "id": "9edd3290",
   "metadata": {},
   "outputs": [
    {
     "data": {
      "text/html": [
       "<div>\n",
       "<style scoped>\n",
       "    .dataframe tbody tr th:only-of-type {\n",
       "        vertical-align: middle;\n",
       "    }\n",
       "\n",
       "    .dataframe tbody tr th {\n",
       "        vertical-align: top;\n",
       "    }\n",
       "\n",
       "    .dataframe thead th {\n",
       "        text-align: right;\n",
       "    }\n",
       "</style>\n",
       "<table border=\"1\" class=\"dataframe\">\n",
       "  <thead>\n",
       "    <tr style=\"text-align: right;\">\n",
       "      <th></th>\n",
       "      <th>ml_fav</th>\n",
       "      <th>ml_dog</th>\n",
       "      <th>spread</th>\n",
       "    </tr>\n",
       "  </thead>\n",
       "  <tbody>\n",
       "    <tr>\n",
       "      <th>0</th>\n",
       "      <td>-110.0</td>\n",
       "      <td>-110.0</td>\n",
       "      <td>0.0</td>\n",
       "    </tr>\n",
       "    <tr>\n",
       "      <th>1</th>\n",
       "      <td>-517.0</td>\n",
       "      <td>557.0</td>\n",
       "      <td>1.0</td>\n",
       "    </tr>\n",
       "    <tr>\n",
       "      <th>2</th>\n",
       "      <td>-461.0</td>\n",
       "      <td>532.0</td>\n",
       "      <td>1.5</td>\n",
       "    </tr>\n",
       "    <tr>\n",
       "      <th>3</th>\n",
       "      <td>-445.0</td>\n",
       "      <td>917.0</td>\n",
       "      <td>2.0</td>\n",
       "    </tr>\n",
       "    <tr>\n",
       "      <th>4</th>\n",
       "      <td>-386.0</td>\n",
       "      <td>1150.0</td>\n",
       "      <td>2.5</td>\n",
       "    </tr>\n",
       "    <tr>\n",
       "      <th>...</th>\n",
       "      <td>...</td>\n",
       "      <td>...</td>\n",
       "      <td>...</td>\n",
       "    </tr>\n",
       "    <tr>\n",
       "      <th>90</th>\n",
       "      <td>-290.0</td>\n",
       "      <td>5072.0</td>\n",
       "      <td>49.0</td>\n",
       "    </tr>\n",
       "    <tr>\n",
       "      <th>91</th>\n",
       "      <td>-1600.0</td>\n",
       "      <td>7000.0</td>\n",
       "      <td>50.0</td>\n",
       "    </tr>\n",
       "    <tr>\n",
       "      <th>92</th>\n",
       "      <td>-380.0</td>\n",
       "      <td>1525.0</td>\n",
       "      <td>50.5</td>\n",
       "    </tr>\n",
       "    <tr>\n",
       "      <th>93</th>\n",
       "      <td>-200.0</td>\n",
       "      <td>65000.0</td>\n",
       "      <td>51.5</td>\n",
       "    </tr>\n",
       "    <tr>\n",
       "      <th>94</th>\n",
       "      <td>-600000.0</td>\n",
       "      <td>140.0</td>\n",
       "      <td>52.0</td>\n",
       "    </tr>\n",
       "  </tbody>\n",
       "</table>\n",
       "<p>95 rows × 3 columns</p>\n",
       "</div>"
      ],
      "text/plain": [
       "      ml_fav   ml_dog  spread\n",
       "0     -110.0   -110.0     0.0\n",
       "1     -517.0    557.0     1.0\n",
       "2     -461.0    532.0     1.5\n",
       "3     -445.0    917.0     2.0\n",
       "4     -386.0   1150.0     2.5\n",
       "..       ...      ...     ...\n",
       "90    -290.0   5072.0    49.0\n",
       "91   -1600.0   7000.0    50.0\n",
       "92    -380.0   1525.0    50.5\n",
       "93    -200.0  65000.0    51.5\n",
       "94 -600000.0    140.0    52.0\n",
       "\n",
       "[95 rows x 3 columns]"
      ]
     },
     "execution_count": 213,
     "metadata": {},
     "output_type": "execute_result"
    }
   ],
   "source": [
    "ml_conv.dropna().reset_index(drop=True)"
   ]
  },
  {
   "cell_type": "code",
   "execution_count": null,
   "id": "b3b5008f",
   "metadata": {},
   "outputs": [
    {
     "name": "stdout",
     "output_type": "stream",
     "text": [
      "       season  week  full_date   time_et game_type         away  \\\n",
      "14959    2024    17   1/1/2025   1:00 PM      post        Texas   \n",
      "14960    2024    17   1/1/2025   5:00 PM      post   Ohio State   \n",
      "14961    2024    17   1/2/2025   4:00 PM      post   Notre Dame   \n",
      "14962    2024    17   1/2/2025   8:00 PM      post         Duke   \n",
      "14963    2024    17   1/3/2025   4:00 PM      post  North Texas   \n",
      "14964    2024    17   1/3/2025   7:30 PM      post    Minnesota   \n",
      "14965    2024    17   1/4/2025  11:00 AM      post      Buffalo   \n",
      "14966    2024    17   1/9/2025   7:30 PM      post   Notre Dame   \n",
      "14967    2024    17  1/10/2025   7:30 PM      post   Ohio State   \n",
      "14968    2024    17  1/20/2025   7:30 PM      post   Ohio State   \n",
      "\n",
      "                home conf_away conf_home  neutral  ...  int_home  \\\n",
      "14959  Arizona State       sec     big12     True  ...       1.0   \n",
      "14960         Oregon     big10     big10     True  ...       0.0   \n",
      "14961        Georgia       ind       sec     True  ...       0.0   \n",
      "14962       Ole Miss       acc       sec     True  ...       1.0   \n",
      "14963    Texas State       aac  sun-belt     True  ...       1.0   \n",
      "14964  Virginia Tech     big10       acc     True  ...       1.0   \n",
      "14965        Liberty       mac      cusa     True  ...       1.0   \n",
      "14966     Penn State       ind     big10     True  ...       1.0   \n",
      "14967          Texas     big10       sec     True  ...       1.0   \n",
      "14968     Notre Dame     big10       ind     True  ...       0.0   \n",
      "\n",
      "       pen_num_away  pen_yards_away  pen_num_home  pen_yards_home  \\\n",
      "14959          10.0            67.0           6.0            50.0   \n",
      "14960           2.0            14.0           3.0            13.0   \n",
      "14961          10.0            75.0           5.0            36.0   \n",
      "14962           1.0            15.0           6.0            45.0   \n",
      "14963           9.0            90.0           9.0            94.0   \n",
      "14964           5.0            25.0           3.0            33.0   \n",
      "14965           6.0            53.0           2.0            20.0   \n",
      "14966           4.0            30.0           5.0            44.0   \n",
      "14967           9.0            75.0           5.0            54.0   \n",
      "14968           6.0            58.0           3.0            30.0   \n",
      "\n",
      "       possession_away  possession_home  rivalry  capacity  attendance  \n",
      "14959            22.10            37.90      NaN       NaN     71105.0  \n",
      "14960            29.08            30.92      NaN       NaN     90732.0  \n",
      "14961            31.78            28.22      NaN       NaN     57267.0  \n",
      "14962            30.03            29.97      NaN       NaN     31290.0  \n",
      "14963            22.22            37.78      NaN       NaN     28725.0  \n",
      "14964            35.40            24.60      NaN       NaN     31027.0  \n",
      "14965            37.02            22.98      NaN       NaN      4610.0  \n",
      "14966            29.93            30.07      NaN       NaN     66881.0  \n",
      "14967            31.63            28.37      NaN       NaN     74527.0  \n",
      "14968            32.42            27.58      NaN       NaN     77660.0  \n",
      "\n",
      "[10 rows x 47 columns]\n"
     ]
    }
   ],
   "source": [
    "# Read in cfb_box_scores_2004_2024.csv to DataFrame\n",
    "box_scores = pd.read_csv(data_path_cfb_box_scores)\n",
    "# Drop columns not needed for analysis\n",
    "box_scores.drop(['rank_away', 'rank_home', 'q1_away', 'q2_away',\n",
    "                              'q3_away', 'q4_away', 'ot_away', 'q1_home',\n",
    "                              'q2_home', 'q3_home', 'q4_home', 'ot_home',\n",
    "                              'tv'], errors='ignore', inplace=True, axis=1)\n",
    "# Clean school names to make them consistent across all datasets\n",
    "teams_list = []\n",
    "for team in box_scores['home']:\n",
    "    team = team.replace('(OH)', 'OH')\n",
    "    team = team.replace('(FL)', 'FL')\n",
    "    team = team.replace('UL-Lafayette', 'Louisiana Lafayette')\n",
    "    team = team.replace('UL-Monroe', 'Louisiana Monroe')\n",
    "    team = team.replace('Florida Atlantic', 'FAU')\n",
    "    team = team.replace('East Carolina', 'ECU')\n",
    "    team = team.replace('Sam Houston State', 'Sam Houston')\n",
    "    teams_list.append(team)\n",
    "box_scores['home'] = teams_list\n",
    "teams_list = []\n",
    "for team in box_scores['away']:\n",
    "    team = team.replace('(OH)', 'OH')\n",
    "    team = team.replace('(FL)', 'FL')\n",
    "    team = team.replace('UL-Lafayette', 'Louisiana Lafayette')\n",
    "    team = team.replace('UL-Monroe', 'Louisiana Monroe')\n",
    "    team = team.replace('Florida Atlantic', 'FAU')\n",
    "    team = team.replace('East Carolina', 'ECU')\n",
    "    team = team.replace('Sam Houston State', 'Sam Houston')\n",
    "    teams_list.append(team)\n",
    "box_scores['away'] = teams_list"
   ]
  },
  {
   "cell_type": "code",
   "execution_count": 171,
   "id": "902642e4",
   "metadata": {},
   "outputs": [],
   "source": [
    "# *** Convert 'date' column in box_scores DataFrame to date\n",
    "box_scores['full_date'] = pd.to_datetime(box_scores['full_date'], errors=\"coerce\")"
   ]
  },
  {
   "cell_type": "code",
   "execution_count": 172,
   "id": "7e3193af",
   "metadata": {},
   "outputs": [],
   "source": [
    "# *** Create match_key column consisting of both teams\n",
    "box_scores['match_key'] = box_scores.apply(make_match_key, axis=1)\n",
    "box_scores['game_id'] = box_scores['full_date'].astype(str) + '_' + box_scores['match_key']"
   ]
  },
  {
   "cell_type": "code",
   "execution_count": 173,
   "id": "02b30db7",
   "metadata": {},
   "outputs": [],
   "source": [
    "# *** Locate non-FBS teams and mark them as 'FCS'\n",
    "for index, row in box_scores.iterrows():\n",
    "    if row['away'] not in fbs_teams_list:\n",
    "        box_scores.at[index, 'away'] = 'FCS'\n",
    "    if row['home'] not in fbs_teams_list:\n",
    "        box_scores.at[index, 'home'] = 'FCS'\n",
    "fcs_teams_stats_away = box_scores[box_scores['away'] == 'FCS'].index\n",
    "fcs_teams_stats_home = box_scores[box_scores['home'] == 'FCS'].index"
   ]
  },
  {
   "cell_type": "code",
   "execution_count": 174,
   "id": "7f39562e",
   "metadata": {},
   "outputs": [],
   "source": [
    "# *** Drop rows from stats_23_24 DataFrame that have 'FCS' for 'away_team'\n",
    "# using the indices of each row that has 'FCS' for 'Opponent'\n",
    "box_scores.drop(fcs_teams_stats_away, inplace=True, errors='ignore')\n",
    "box_scores.drop(fcs_teams_stats_home, inplace=True, errors='ignore')\n",
    "box_scores = box_scores.reset_index(drop=True)"
   ]
  },
  {
   "cell_type": "code",
   "execution_count": 175,
   "id": "ccb40cd6",
   "metadata": {},
   "outputs": [],
   "source": [
    "# *** Impute 'n' for games where they are not rivalries\n",
    "for i in range(0, len(box_scores)):\n",
    "    if pd.isna(box_scores.loc[i, 'rivalry']):\n",
    "        box_scores.loc[i, 'rivalry'] = 'n'\n",
    "        "
   ]
  },
  {
   "cell_type": "code",
   "execution_count": 98,
   "id": "00a4ee02",
   "metadata": {},
   "outputs": [],
   "source": [
    "# *** Load stadium capacity into DataFrame to use for imputation of box_scores['capacity'] column\n",
    "stad_capacity = pd.read_csv(data_path_stad_capacity)\n",
    "stad_capacity = stad_capacity.drop('Stadium', axis=1)\n",
    "stad_capacity.set_index('home', inplace=True)"
   ]
  },
  {
   "cell_type": "code",
   "execution_count": 179,
   "id": "b02949d1",
   "metadata": {},
   "outputs": [],
   "source": [
    "# *** Impute capacity from stad_capacity into box_scores\n",
    "for i, row in box_scores.iterrows():\n",
    "    home_team = row['home']\n",
    "    capacity = stad_capacity.loc[home_team, 'capacity']\n",
    "    if pd.isna(box_scores.loc[i, 'capacity']):\n",
    "        box_scores.at[i, 'capacity'] = capacity\n",
    "\n",
    "# Convert to 'capacity' to numeric\n",
    "box_scores['capacity'] = pd.to_numeric(box_scores['capacity'], errors='coerce').astype('Int64')"
   ]
  },
  {
   "cell_type": "code",
   "execution_count": 180,
   "id": "eff1026d",
   "metadata": {},
   "outputs": [],
   "source": [
    "# *** Calculate mean on attendance for each team\n",
    "attendance_means = box_scores.groupby('home').agg({\n",
    "    'attendance': 'mean',\n",
    "})\n",
    "attendance_means['home'] = attendance_means.index\n",
    "attendance_means['attendance'] = attendance_means['attendance'].round()"
   ]
  },
  {
   "cell_type": "code",
   "execution_count": 181,
   "id": "3e729c46",
   "metadata": {},
   "outputs": [],
   "source": [
    "# *** Impute attendance means for missing games\n",
    "for i, row in box_scores.iterrows():\n",
    "    attend_home = row['home']\n",
    "    attendance = attendance_means.loc[attend_home, 'attendance']\n",
    "    if pd.isna(box_scores.loc[i, 'attendance']):\n",
    "        box_scores.at[i, 'attendance'] = attendance"
   ]
  },
  {
   "cell_type": "code",
   "execution_count": 182,
   "id": "d6ee709b",
   "metadata": {},
   "outputs": [],
   "source": [
    "# *** Calculate percentage of attendance/capacity\n",
    "for i, row in box_scores.iterrows():\n",
    "    attend_percent = row['attendance'] / row['capacity']\n",
    "    box_scores['attend_percent']  = attend_percent"
   ]
  },
  {
   "cell_type": "code",
   "execution_count": 204,
   "id": "38504315",
   "metadata": {},
   "outputs": [],
   "source": [
    "stats_23_24_new.sort_values('game_id', axis=0, inplace=True)"
   ]
  },
  {
   "cell_type": "code",
   "execution_count": 203,
   "id": "f9b8686a",
   "metadata": {},
   "outputs": [],
   "source": [
    "hist_odds.sort_values('game_id', axis=0, inplace=True)"
   ]
  },
  {
   "cell_type": "code",
   "execution_count": 202,
   "id": "b2ca4adf",
   "metadata": {},
   "outputs": [],
   "source": [
    "box_scores.sort_values('game_id', axis=0, inplace=True)"
   ]
  },
  {
   "cell_type": "code",
   "execution_count": 206,
   "id": "c4a82c98",
   "metadata": {},
   "outputs": [],
   "source": [
    "# Merge stats_23_24 and hist_ods DataFrames\n",
    "merged_odds_df = pd.concat([hist_odds, stats_23_24_new])"
   ]
  },
  {
   "cell_type": "code",
   "execution_count": 207,
   "id": "385f6e54",
   "metadata": {},
   "outputs": [
    {
     "data": {
      "text/plain": [
       "Index(['2007-10-11_Florida State_Wake Forest',\n",
       "       '2007-10-12_Hawaii_San Jose State',\n",
       "       '2007-10-13_Air Force_Colorado State', '2007-10-13_Akron_Temple',\n",
       "       '2007-10-13_Arizona State_Washington', '2007-10-13_Arizona_USC',\n",
       "       '2007-10-13_Arkansas State_Louisiana Lafayette',\n",
       "       '2007-10-13_Arkansas_Auburn', '2007-10-13_Army_Central Michigan',\n",
       "       '2007-10-13_BYU_UNLV',\n",
       "       ...\n",
       "       '2025-01-01_Arizona State_Texas', '2025-01-01_Ohio State_Oregon',\n",
       "       '2025-01-02_Duke_Ole Miss', '2025-01-02_Georgia_Notre Dame',\n",
       "       '2025-01-03_Minnesota_Virginia Tech',\n",
       "       '2025-01-03_North Texas_Texas State', '2025-01-04_Buffalo_Liberty',\n",
       "       '2025-01-09_Notre Dame_Penn State', '2025-01-10_Ohio State_Texas',\n",
       "       '2025-01-20_Notre Dame_Ohio State'],\n",
       "      dtype='object', name='game_id', length=12514)"
      ]
     },
     "execution_count": 207,
     "metadata": {},
     "output_type": "execute_result"
    }
   ],
   "source": [
    "merged_odds_df.set_index(['game_id'], inplace=True, verify_integrity=True)\n",
    "merged_odds_df.index"
   ]
  },
  {
   "cell_type": "code",
   "execution_count": 211,
   "id": "730a764d",
   "metadata": {},
   "outputs": [
    {
     "ename": "KeyError",
     "evalue": "\"None of ['game_id'] are in the columns\"",
     "output_type": "error",
     "traceback": [
      "\u001b[1;31m---------------------------------------------------------------------------\u001b[0m",
      "\u001b[1;31mKeyError\u001b[0m                                  Traceback (most recent call last)",
      "\u001b[1;32m~\\AppData\\Local\\Temp\\ipykernel_30032\\3481572923.py\u001b[0m in \u001b[0;36m?\u001b[1;34m()\u001b[0m\n\u001b[1;32m----> 1\u001b[1;33m \u001b[0mbox_scores\u001b[0m\u001b[1;33m.\u001b[0m\u001b[0mset_index\u001b[0m\u001b[1;33m(\u001b[0m\u001b[1;33m[\u001b[0m\u001b[1;34m'game_id'\u001b[0m\u001b[1;33m]\u001b[0m\u001b[1;33m,\u001b[0m \u001b[0minplace\u001b[0m\u001b[1;33m=\u001b[0m\u001b[1;32mTrue\u001b[0m\u001b[1;33m,\u001b[0m \u001b[0mverify_integrity\u001b[0m\u001b[1;33m=\u001b[0m\u001b[1;32mTrue\u001b[0m\u001b[1;33m)\u001b[0m\u001b[1;33m\u001b[0m\u001b[1;33m\u001b[0m\u001b[0m\n\u001b[0m",
      "\u001b[1;32mc:\\Users\\gland\\anaconda3\\Lib\\site-packages\\pandas\\core\\frame.py\u001b[0m in \u001b[0;36m?\u001b[1;34m(self, keys, drop, append, inplace, verify_integrity)\u001b[0m\n\u001b[0;32m   6118\u001b[0m                     \u001b[1;32mif\u001b[0m \u001b[1;32mnot\u001b[0m \u001b[0mfound\u001b[0m\u001b[1;33m:\u001b[0m\u001b[1;33m\u001b[0m\u001b[1;33m\u001b[0m\u001b[0m\n\u001b[0;32m   6119\u001b[0m                         \u001b[0mmissing\u001b[0m\u001b[1;33m.\u001b[0m\u001b[0mappend\u001b[0m\u001b[1;33m(\u001b[0m\u001b[0mcol\u001b[0m\u001b[1;33m)\u001b[0m\u001b[1;33m\u001b[0m\u001b[1;33m\u001b[0m\u001b[0m\n\u001b[0;32m   6120\u001b[0m \u001b[1;33m\u001b[0m\u001b[0m\n\u001b[0;32m   6121\u001b[0m         \u001b[1;32mif\u001b[0m \u001b[0mmissing\u001b[0m\u001b[1;33m:\u001b[0m\u001b[1;33m\u001b[0m\u001b[1;33m\u001b[0m\u001b[0m\n\u001b[1;32m-> 6122\u001b[1;33m             \u001b[1;32mraise\u001b[0m \u001b[0mKeyError\u001b[0m\u001b[1;33m(\u001b[0m\u001b[1;34mf\"None of {missing} are in the columns\"\u001b[0m\u001b[1;33m)\u001b[0m\u001b[1;33m\u001b[0m\u001b[1;33m\u001b[0m\u001b[0m\n\u001b[0m\u001b[0;32m   6123\u001b[0m \u001b[1;33m\u001b[0m\u001b[0m\n\u001b[0;32m   6124\u001b[0m         \u001b[1;32mif\u001b[0m \u001b[0minplace\u001b[0m\u001b[1;33m:\u001b[0m\u001b[1;33m\u001b[0m\u001b[1;33m\u001b[0m\u001b[0m\n\u001b[0;32m   6125\u001b[0m             \u001b[0mframe\u001b[0m \u001b[1;33m=\u001b[0m \u001b[0mself\u001b[0m\u001b[1;33m\u001b[0m\u001b[1;33m\u001b[0m\u001b[0m\n",
      "\u001b[1;31mKeyError\u001b[0m: \"None of ['game_id'] are in the columns\""
     ]
    }
   ],
   "source": [
    "box_scores.set_index(['game_id'], inplace=True, verify_integrity=True)"
   ]
  },
  {
   "cell_type": "code",
   "execution_count": 208,
   "id": "640748cd",
   "metadata": {},
   "outputs": [],
   "source": [
    "# Merge odds and box scores DataFrames\n",
    "merged_df = box_scores.merge(merged_odds_df, how='inner', on='game_id')"
   ]
  },
  {
   "cell_type": "code",
   "execution_count": 314,
   "id": "561f37b0",
   "metadata": {},
   "outputs": [],
   "source": [
    "# Write separate and merged DataFrames to new CSV files\n",
    "stats_23_24_new.to_csv('data/stats_23_24_new.csv')"
   ]
  },
  {
   "cell_type": "code",
   "execution_count": 315,
   "id": "65e85e48",
   "metadata": {},
   "outputs": [],
   "source": [
    "hist_odds.to_csv('data/hist_odds.csv')"
   ]
  },
  {
   "cell_type": "code",
   "execution_count": 316,
   "id": "b9d60f05",
   "metadata": {},
   "outputs": [],
   "source": [
    "merged_odds_df.to_csv('data/merged_odds_df.csv')"
   ]
  },
  {
   "cell_type": "code",
   "execution_count": 329,
   "id": "d3abd419",
   "metadata": {},
   "outputs": [],
   "source": [
    "merged_df.to_csv('data/merged_df.csv')"
   ]
  },
  {
   "cell_type": "code",
   "execution_count": 320,
   "id": "8fd882bd",
   "metadata": {},
   "outputs": [],
   "source": [
    "%history -f my_history.txt"
   ]
  },
  {
   "cell_type": "code",
   "execution_count": null,
   "id": "c50433d6",
   "metadata": {},
   "outputs": [],
   "source": [
    "\"\"\"\n",
    "if __name__ == \"__main__\":\n",
    "    # Load the dataset\n",
    "\n",
    "    # Display the first few rows of the dataset\n",
    "    print(data.head())\n",
    "\n",
    "    # Define features and target variable\n",
    "    X = data.drop('median_house_value', axis=1)\n",
    "    y = data['median_house_value']\n",
    "\n",
    "    # Split the dataset into training and testing sets\n",
    "    X_train, X_test, y_train, y_test = train_test_split(\n",
    "        X,\n",
    "        y,\n",
    "        test_size=0.2,\n",
    "        random_state=42)\n",
    "\n",
    "    # Preprocessing for numerical features\n",
    "    numeric_features = X.select_dtypes(include=[\n",
    "    'int64', 'float64']).columns.tolist()\n",
    "    numeric_transformer = Pipeline(steps=[\n",
    "        ('imputer', SimpleImputer(strategy='mean')),\n",
    "        ('scaler', StandardScaler())\n",
    "    ])\n",
    "\n",
    "    # Preprocessing for categorical features\n",
    "    categorical_features = X.select_dtypes(include=['object']).columns.tolist()\n",
    "    categorical_transformer = Pipeline(steps=[\n",
    "        ('imputer', SimpleImputer(strategy='most_frequent')),\n",
    "        ('onehot', OneHotEncoder(handle_unknown='ignore'))\n",
    "    ])\n",
    "\n",
    "    # Combine preprocessing steps\n",
    "    preprocessor = ColumnTransformer(\n",
    "        transformers=[\n",
    "            ('num', numeric_transformer, numeric_features),\n",
    "            ('cat', categorical_transformer, categorical_features)\n",
    "        ])\n",
    "\n",
    "    # Create a pipeline that combines preprocessing\n",
    "    # with a linear regression model\n",
    "    model = Pipeline(steps=[\n",
    "        ('preprocessor', preprocessor),\n",
    "        ('regressor', LinearRegression())\n",
    "    ])\n",
    "\n",
    "    # Train the model\n",
    "    model.fit(X_train, y_train)\n",
    "\n",
    "    # Make predictions on the test set\n",
    "    y_pred = model.predict(X_test)\n",
    "\n",
    "    # Evaluate the model\n",
    "    mse = mean_squared_error(y_test, y_pred)\n",
    "    r2 = r2_score(y_test, y_pred)\n",
    "\n",
    "    print(f'Mean Squared Error: {mse}')\n",
    "    print(f'R^2 Score: {r2}')\n",
    "\"\"\""
   ]
  }
 ],
 "metadata": {
  "kernelspec": {
   "display_name": "base",
   "language": "python",
   "name": "python3"
  },
  "language_info": {
   "codemirror_mode": {
    "name": "ipython",
    "version": 3
   },
   "file_extension": ".py",
   "mimetype": "text/x-python",
   "name": "python",
   "nbconvert_exporter": "python",
   "pygments_lexer": "ipython3",
   "version": "3.11.7"
  }
 },
 "nbformat": 4,
 "nbformat_minor": 5
}
